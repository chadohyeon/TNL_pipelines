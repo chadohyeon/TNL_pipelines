{
 "cells": [
  {
   "cell_type": "code",
   "execution_count": 1,
   "id": "ea570820-ea54-466b-8c79-e18dfd933ea1",
   "metadata": {},
   "outputs": [],
   "source": [
    "import os, sys"
   ]
  },
  {
   "cell_type": "code",
   "execution_count": null,
   "id": "bcb659e7-ecb2-43df-8301-c678b5002bae",
   "metadata": {},
   "outputs": [],
   "source": [
    "### vcf to bed"
   ]
  },
  {
   "cell_type": "code",
   "execution_count": 67,
   "id": "084d3a9d-2c68-4ffd-9ff3-2e700aedcaf7",
   "metadata": {},
   "outputs": [],
   "source": [
    "# make bed file (N.21.1.1_3, intersect 1~2)\n",
    "\n",
    "with open(\"/home/jsh/01.Project/20220503/Sonication/30X/05.PASS_somatic_isec/N.21.1_2.isec.AFfilter.vcf\", \"r\") as vcf:\n",
    "    with open(\"/home/jsh/01.Project/20220503/Sonication/30X/05.PASS_somatic_isec_bed/N.21.1_2.isec.AFfilter.bed\", \"w\") as bed:\n",
    "        for line in vcf:\n",
    "            if not line.startswith(\"#\"):\n",
    "                \n",
    "                linecomp = line.split(\"\\t\")\n",
    "                if len(linecomp[3])==1 and len(linecomp[4])==1:\n",
    "                    a=\"\\t\".join([linecomp[0], str(int(linecomp[1])-1), linecomp[1], linecomp[3],linecomp[4],\"N.21.1_3.marked.recal\",'\\n'] )\n",
    "                    bed.write(a)\n",
    "\n",
    "            "
   ]
  },
  {
   "cell_type": "code",
   "execution_count": 4,
   "id": "89cf7680-6e79-4a14-8180-98d5272b61ce",
   "metadata": {},
   "outputs": [
    {
     "data": {
      "text/plain": [
       "3"
      ]
     },
     "execution_count": 4,
     "metadata": {},
     "output_type": "execute_result"
    }
   ],
   "source": [
    "int(\"3\")"
   ]
  },
  {
   "cell_type": "code",
   "execution_count": 22,
   "id": "95196e11-27d1-45b6-a77f-89982f8dfab3",
   "metadata": {},
   "outputs": [],
   "source": [
    "### bed to vcf"
   ]
  },
  {
   "cell_type": "code",
   "execution_count": 27,
   "id": "e30eefe2-f388-44b9-ab97-1c50dac39f70",
   "metadata": {},
   "outputs": [],
   "source": [
    "with open(\"/home/jsh/01.Project/Celltype/20220504/05.PASS_somatic_vcf2/Neun.only.mutect2.filtered.white.vcf\",  \"w\") as vcf:\n",
    "    with open(\"/home/jsh/01.Project/Celltype/20220504/05.PASS_somatic_bed2/Neun.only.PASS.mutect2.filtered.vcf.white.bed\", \"r\") as bed:\n",
    "        with open(\"/home/jsh/01.Project/Celltype/20220504/05.PASS_somatic_vcf2/Neun_header\", \"r\") as header:\n",
    "            for line in header:\n",
    "                vcf.write(line)\n",
    "            for line in bed:\n",
    "                linecomp = line.split(\"\\t\")\n",
    "                del linecomp[1]\n",
    "                a = \"\\t\".join(linecomp)\n",
    "                vcf.write(a)"
   ]
  },
  {
   "cell_type": "code",
   "execution_count": 28,
   "id": "4639a4d7-dcbb-4119-84b1-23517f8d2423",
   "metadata": {},
   "outputs": [],
   "source": [
    "with open(\"/home/jsh/01.Project/Celltype/20220504/05.PASS_somatic_vcf2/Olig2.only.mutect2.filtered.white.vcf\",  \"w\") as vcf:\n",
    "    with open(\"/home/jsh/01.Project/Celltype/20220504/05.PASS_somatic_bed2/Olig2.only.PASS.mutect2.filtered.vcf.white.bed\", \"r\") as bed:\n",
    "        with open(\"/home/jsh/01.Project/Celltype/20220504/05.PASS_somatic_vcf2/Olig2_header\", \"r\") as header:\n",
    "            for line in header:\n",
    "                vcf.write(line)\n",
    "            for line in bed:\n",
    "                linecomp = line.split(\"\\t\")\n",
    "                del linecomp[1]\n",
    "                a = \"\\t\".join(linecomp)\n",
    "                vcf.write(a)"
   ]
  },
  {
   "cell_type": "code",
   "execution_count": 29,
   "id": "3ebf8a79-89bf-49c4-9e22-cbfc6145dc50",
   "metadata": {},
   "outputs": [],
   "source": [
    "with open(\"/home/jsh/01.Project/Celltype/20220504/05.PASS_somatic_vcf2/PU1.only.mutect2.filtered.white.vcf\",  \"w\") as vcf:\n",
    "    with open(\"/home/jsh/01.Project/Celltype/20220504/05.PASS_somatic_bed2/PU1.only.PASS.mutect2.filtered.vcf.white.bed\", \"r\") as bed:\n",
    "        with open(\"/home/jsh/01.Project/Celltype/20220504/05.PASS_somatic_vcf2/PU1_header\", \"r\") as header:\n",
    "            for line in header:\n",
    "                vcf.write(line)\n",
    "            for line in bed:\n",
    "                linecomp = line.split(\"\\t\")\n",
    "                del linecomp[1]\n",
    "                a = \"\\t\".join(linecomp)\n",
    "                vcf.write(a)"
   ]
  },
  {
   "cell_type": "code",
   "execution_count": 30,
   "id": "d5aad28a-d700-40d7-9fde-caf092e3a3e6",
   "metadata": {},
   "outputs": [],
   "source": [
    "with open(\"/home/jsh/01.Project/Celltype/20220504/05.PASS_somatic_vcf2/LHX.only.mutect2.filtered.white.vcf\",  \"w\") as vcf:\n",
    "    with open(\"/home/jsh/01.Project/Celltype/20220504/05.PASS_somatic_bed2/LHX.only.PASS.mutect2.filtered.vcf.white.bed\", \"r\") as bed:\n",
    "        with open(\"/home/jsh/01.Project/Celltype/20220504/05.PASS_somatic_vcf2/LHX_header\", \"r\") as header:\n",
    "            for line in header:\n",
    "                vcf.write(line)\n",
    "            for line in bed:\n",
    "                linecomp = line.split(\"\\t\")\n",
    "                del linecomp[1]\n",
    "                a = \"\\t\".join(linecomp)\n",
    "                vcf.write(a)"
   ]
  },
  {
   "cell_type": "code",
   "execution_count": 43,
   "id": "f0e71c11-735e-4262-8588-edab791068ea",
   "metadata": {},
   "outputs": [],
   "source": [
    "VAF = []\n",
    "with open(\"/home/jsh/01.Project/Celltype/20220504/05.PASS_somatic_bed2/LHX.only.PASS.mutect2.filtered.vcf.white.bed\",  \"r\") as bed:\n",
    "    for line in bed:\n",
    "        VAF.append(line.split('\\t')[-1].split(':')[2])\n",
    "\n",
    "        "
   ]
  },
  {
   "cell_type": "code",
   "execution_count": 46,
   "id": "db851359-986d-4613-83f3-7a8a2d1aacad",
   "metadata": {},
   "outputs": [
    {
     "data": {
      "text/plain": [
       "'0.991'"
      ]
     },
     "execution_count": 46,
     "metadata": {},
     "output_type": "execute_result"
    }
   ],
   "source": [
    "VAF\n",
    "min(VAF)\n",
    "max(VAF)\n"
   ]
  },
  {
   "cell_type": "code",
   "execution_count": 81,
   "id": "7d798825-586f-4393-b54f-2ddee209f951",
   "metadata": {},
   "outputs": [],
   "source": [
    "with open(\"/home/jsh/01.Project/Celltype/20220607/05.PASS_somatic_vcf_only/Neun.pair_Blood.PASS.only.AF005_04.Alt2.DP20_120.vcf\",  \"w\") as vcf:\n",
    "    with open(\"/home/jsh/01.Project/Celltype/20220504/05.PASS_somatic_bed2/Neun.only.PASS.mutect2.filtered.vcf.white.bed\", \"r\") as bed:\n",
    "        with open(\"/home/jsh/01.Project/Celltype/20220504/05.PASS_somatic_vcf2/Neun_header\", \"r\") as header:\n",
    "            for line in header:\n",
    "                vcf.write(line)\n",
    "            for line in bed:\n",
    "                linecomp = line.split(\"\\t\")\n",
    "                if float(line.split('\\t')[-1].split(':')[2]) <= 0.4 and float(line.split('\\t')[-1].split(':')[2]) >= 0.02 and int(line.split('\\t')[-1].split(':')[3]) >= 20 and int(line.split('\\t')[-1].split(':')[3]) <= 120:\n",
    "                    del linecomp[1]\n",
    "                    a = \"\\t\".join(linecomp)\n",
    "                    vcf.write(a)\n",
    "                    \n",
    "with open(\"/home/jsh/01.Project/Celltype/20220504/05.PASS_somatic_vcf2/Olig2.only.mutect2.filtered.white.AFfilter.vcf\",  \"w\") as vcf:\n",
    "    with open(\"/home/jsh/01.Project/Celltype/20220504/05.PASS_somatic_bed2/Olig2.only.PASS.mutect2.filtered.vcf.white.bed\", \"r\") as bed:\n",
    "        with open(\"/home/jsh/01.Project/Celltype/20220504/05.PASS_somatic_vcf2/Olig2_header\", \"r\") as header:\n",
    "            for line in header:\n",
    "                vcf.write(line)\n",
    "            for line in bed:\n",
    "                linecomp = line.split(\"\\t\")\n",
    "                if float(line.split('\\t')[-1].split(':')[2]) <= 0.4 and float(line.split('\\t')[-1].split(':')[2]) >= 0.02 and int(line.split('\\t')[-1].split(':')[3]) >= 20 and int(line.split('\\t')[-1].split(':')[3]) <= 120:\n",
    "                    del linecomp[1]\n",
    "                    a = \"\\t\".join(linecomp)\n",
    "                    vcf.write(a)\n",
    "                    \n",
    "\n",
    "with open(\"/home/jsh/01.Project/Celltype/20220504/05.PASS_somatic_vcf2/PU1.only.mutect2.filtered.white.AFfilter.vcf\",  \"w\") as vcf:\n",
    "    with open(\"/home/jsh/01.Project/Celltype/20220504/05.PASS_somatic_bed2/PU1.only.PASS.mutect2.filtered.vcf.white.bed\", \"r\") as bed:\n",
    "        with open(\"/home/jsh/01.Project/Celltype/20220504/05.PASS_somatic_vcf2/PU1_header\", \"r\") as header:\n",
    "            for line in header:\n",
    "                vcf.write(line)\n",
    "            for line in bed:\n",
    "                linecomp = line.split(\"\\t\")\n",
    "                if float(line.split('\\t')[-1].split(':')[2]) <= 0.4 and float(line.split('\\t')[-1].split(':')[2]) >= 0.02 and int(line.split('\\t')[-1].split(':')[3]) >= 20 and int(line.split('\\t')[-1].split(':')[3]) <= 120:\n",
    "                    del linecomp[1]\n",
    "                    a = \"\\t\".join(linecomp)\n",
    "                    vcf.write(a)                    \n",
    "\n",
    "with open(\"/home/jsh/01.Project/Celltype/20220504/05.PASS_somatic_vcf2/LHX.only.mutect2.filtered.white.AFfilter.vcf\",  \"w\") as vcf:\n",
    "    with open(\"/home/jsh/01.Project/Celltype/20220504/05.PASS_somatic_bed2/LHX.only.PASS.mutect2.filtered.vcf.white.bed\", \"r\") as bed:\n",
    "        with open(\"/home/jsh/01.Project/Celltype/20220504/05.PASS_somatic_vcf2/LHX_header\", \"r\") as header:\n",
    "            for line in header:\n",
    "                vcf.write(line)\n",
    "            for line in bed:\n",
    "                linecomp = line.split(\"\\t\")\n",
    "                if float(line.split('\\t')[-1].split(':')[2]) <= 0.4 and float(line.split('\\t')[-1].split(':')[2]) >= 0.02 and int(line.split('\\t')[-1].split(':')[3]) >= 20 and int(line.split('\\t')[-1].split(':')[3]) <= 120:\n",
    "                    del linecomp[1]\n",
    "                    a = \"\\t\".join(linecomp)\n",
    "                    vcf.write(a)                    "
   ]
  },
  {
   "cell_type": "code",
   "execution_count": 47,
   "id": "d4ee5822-adbc-401f-873e-8a4b8e9fb4f4",
   "metadata": {},
   "outputs": [
    {
     "data": {
      "text/plain": [
       "0.23"
      ]
     },
     "execution_count": 47,
     "metadata": {},
     "output_type": "execute_result"
    }
   ],
   "source": [
    "float(\"0.23\")"
   ]
  },
  {
   "cell_type": "code",
   "execution_count": 75,
   "id": "169a83b3-13af-478b-a4bd-fea459fcb2ac",
   "metadata": {},
   "outputs": [],
   "source": [
    "with open(\"/home/jsh/01.Project/20220503/Sonication/30X/05.PASS_somatic_isec/N.21.1_2.isec.vcf\", \"r\") as vcfr:\n",
    "    with open(\"/home/jsh/01.Project/20220503/Sonication/30X/05.PASS_somatic_isec/N.21.1_2.isec.AFfilter.vcf\", \"w\") as vcfw:\n",
    "        for line in vcfr:\n",
    "            if line.startswith(\"#\"):\n",
    "                vcfw.write(line)\n",
    "            else:\n",
    "                linecomp = line.split(\"\\t\")\n",
    "                if float(line.split('\\t')[-2].split(':')[2]) <= 0.4 and float(line.split('\\t')[-2].split(':')[2]) >= 0.02 and int(line.split('\\t')[-2].split(':')[3]) >=20 and int(line.split('\\t')[-2].split(':')[3]) <=20:\n",
    "                    a = \"\\t\".join(linecomp)\n",
    "                    vcfw.write(a)\n",
    "\n",
    "with open(\"/home/jsh/01.Project/20220503/Sonication/30X/05.PASS_somatic_isec/N.21.2_3.isec.vcf\", \"r\") as vcfr:\n",
    "    with open(\"/home/jsh/01.Project/20220503/Sonication/30X/05.PASS_somatic_isec/N.21.2_3.isec.AFfilter.vcf\", \"w\") as vcfw:\n",
    "        for line in vcfr:\n",
    "            if line.startswith(\"#\"):\n",
    "                vcfw.write(line)\n",
    "            else:\n",
    "                linecomp = line.split(\"\\t\")\n",
    "                if float(line.split('\\t')[-2].split(':')[2]) <= 0.4 and float(line.split('\\t')[-2].split(':')[2]) >= 0.02 and int(line.split('\\t')[-2].split(':')[3]) >=20 and int(line.split('\\t')[-2].split(':')[3]) <=20:\n",
    "                    a = \"\\t\".join(linecomp)\n",
    "                    vcfw.write(a)\n",
    "\n",
    "with open(\"/home/jsh/01.Project/20220503/Sonication/30X/05.PASS_somatic_isec/N.21.1_2_3.isec.vcf\", \"r\") as vcfr:\n",
    "    with open(\"/home/jsh/01.Project/20220503/Sonication/30X/05.PASS_somatic_isec/N.21.1_2_3.isec.AFfilter.vcf\", \"w\") as vcfw:\n",
    "        for line in vcfr:\n",
    "            if line.startswith(\"#\"):\n",
    "                vcfw.write(line)\n",
    "            else:\n",
    "                linecomp = line.split(\"\\t\")\n",
    "                if float(line.split('\\t')[-2].split(':')[2]) <= 0.4 and float(line.split('\\t')[-2].split(':')[2]) >= 0.02 and int(line.split('\\t')[-2].split(':')[3]) >=20 and int(line.split('\\t')[-2].split(':')[3]) <=20:\n",
    "                    a = \"\\t\".join(linecomp)\n",
    "                    vcfw.write(a)                    "
   ]
  },
  {
   "cell_type": "code",
   "execution_count": 50,
   "id": "6f83a308-5b87-4cb6-b92a-73186e4afcdd",
   "metadata": {},
   "outputs": [
    {
     "data": {
      "text/plain": [
       "True"
      ]
     },
     "execution_count": 50,
     "metadata": {},
     "output_type": "execute_result"
    }
   ],
   "source": [
    "a = \"###2123124\"\n",
    "a.startswith(\"#\")"
   ]
  },
  {
   "cell_type": "code",
   "execution_count": 74,
   "id": "ebe380a3-407f-4fa5-a49e-de0998d92818",
   "metadata": {},
   "outputs": [
    {
     "data": {
      "text/plain": [
       "['GT:AD:AF:DP:F1R2:F2R1:SB', '0/1:5,3:0.4:8:1,1:4,2:4,1,3,0']"
      ]
     },
     "execution_count": 74,
     "metadata": {},
     "output_type": "execute_result"
    }
   ],
   "source": [
    "line.split('\\t')[-3:-1]"
   ]
  },
  {
   "cell_type": "code",
   "execution_count": 106,
   "id": "c850fbfe-008e-43ed-a153-6d44e514b4c9",
   "metadata": {},
   "outputs": [],
   "source": [
    "# vcf file error :  ALT/QUAL > Ref/ALT\n",
    "def swappos(list1, pos1, pos2, pos3):\n",
    "    list1[pos1], list1[pos2], list1[pos3] = list1[pos2], list1[pos3], list1[pos1]\n",
    "    return list1\n",
    "\n",
    "with open(\"/home/jsh/01.Project/Celltype/20220504/05.PASS_somatic_vcf2/Neun.only.mutect2.filtered.white.AFfilter.fixed.vcf\",  \"w\") as fixed:\n",
    "    with open(\"/home/jsh/01.Project/Celltype/20220504/05.PASS_somatic_vcf2/Neun.only.mutect2.filtered.white.AFfilter.vcf\", \"r\") as unfixed:\n",
    "        for line in unfixed:\n",
    "            if line.startswith(\"#\"):\n",
    "                fixed.write(line)\n",
    "            else:\n",
    "                linecomp = line.split(\"\\t\")\n",
    "                linecomp = swappos(linecomp,3,4,5 )\n",
    "                a = \"\\t\".join(linecomp)\n",
    "                fixed.write(a)\n",
    "                \n",
    "with open(\"/home/jsh/01.Project/Celltype/20220504/05.PASS_somatic_vcf2/Olig2.only.mutect2.filtered.white.AFfilter.fixed.vcf\",  \"w\") as fixed:\n",
    "    with open(\"/home/jsh/01.Project/Celltype/20220504/05.PASS_somatic_vcf2/Olig2.only.mutect2.filtered.white.AFfilter.vcf\", \"r\") as unfixed:\n",
    "        for line in unfixed:\n",
    "            if line.startswith(\"#\"):\n",
    "                fixed.write(line)\n",
    "            else:\n",
    "                linecomp = line.split(\"\\t\")\n",
    "                linecomp = swappos(linecomp,3,4,5 )\n",
    "                a = \"\\t\".join(linecomp)\n",
    "                fixed.write(a)\n",
    "                \n",
    "with open(\"/home/jsh/01.Project/Celltype/20220504/05.PASS_somatic_vcf2/PU1.only.mutect2.filtered.white.AFfilter.fixed.vcf\",  \"w\") as fixed:\n",
    "    with open(\"/home/jsh/01.Project/Celltype/20220504/05.PASS_somatic_vcf2/PU1.only.mutect2.filtered.white.AFfilter.vcf\", \"r\") as unfixed:\n",
    "        for line in unfixed:\n",
    "            if line.startswith(\"#\"):\n",
    "                fixed.write(line)\n",
    "            else:\n",
    "                linecomp = line.split(\"\\t\")\n",
    "                linecomp = swappos(linecomp,3,4,5 )\n",
    "                a = \"\\t\".join(linecomp)\n",
    "                fixed.write(a)\n",
    "                \n",
    "with open(\"/home/jsh/01.Project/Celltype/20220504/05.PASS_somatic_vcf2/LHX.only.mutect2.filtered.white.AFfilter.fixed.vcf\",  \"w\") as fixed:\n",
    "    with open(\"/home/jsh/01.Project/Celltype/20220504/05.PASS_somatic_vcf2/LHX.only.mutect2.filtered.white.AFfilter.vcf\", \"r\") as unfixed:\n",
    "        for line in unfixed:\n",
    "            if line.startswith(\"#\"):\n",
    "                fixed.write(line)\n",
    "            else:\n",
    "                linecomp = line.split(\"\\t\")\n",
    "                linecomp = swappos(linecomp,3,4,5 )\n",
    "                a = \"\\t\".join(linecomp)\n",
    "                fixed.write(a)                "
   ]
  },
  {
   "cell_type": "code",
   "execution_count": 83,
   "id": "63060153-5e5c-405c-a5eb-a1645c1e2f16",
   "metadata": {},
   "outputs": [
    {
     "name": "stdout",
     "output_type": "stream",
     "text": [
      "['chr', 'pos', 'id', 'ref', 'alt', 'qual', 'filter', 'info', 'format', 'sample']\n"
     ]
    },
    {
     "data": {
      "text/plain": [
       "['chr1', '79123', '.', 'T', 'A', '.', 'pass', 'info', 'addpfef', '0/1aewf']"
      ]
     },
     "execution_count": 83,
     "metadata": {},
     "output_type": "execute_result"
    }
   ],
   "source": [
    "a=[\"chr\", \"pos\", \"id\", 'ref', 'alt', 'qual', 'filter', 'info', 'format', 'sample']\n",
    "b = [\"chr1\", '79123', '.', '.', 'T', 'A', 'pass', 'info', 'addpfef', '0/1aewf']\n",
    "def swappos(list1, pos1, pos2, pos3):\n",
    "    list1[pos1], list1[pos2], list1[pos3] = list1[pos2], list1[pos3], list1[pos1]\n",
    "    return list1\n",
    "print(a)\n",
    "swappos(b, 3, 4, 5)"
   ]
  },
  {
   "cell_type": "code",
   "execution_count": 69,
   "id": "29119c42-1cea-409b-aa7c-6dbfbe4f8592",
   "metadata": {},
   "outputs": [],
   "source": [
    "## raw VCF, AF 0.05 filter, Alt read 2 filter, DP 20~120 filter\n",
    "\n",
    "with open(\"/home/jsh/01.Project/Celltype/20220504/05.PASS_somatic_vcf/Neun.pair_PU1.PASS.mutect2.filtered.vcf\", \"r\") as rawvcf:\n",
    "    with open(\"/home/jsh/01.Project/Celltype/20220504/05.PASS_somatic_vcf/Neun.pair_PU1.PASS.mutect2.filtered.AF005_04.Alt2.DP20_120.vcf\", \"w\") as newvcf:\n",
    "        for line in rawvcf:\n",
    "            if line.startswith(\"#\"):\n",
    "                newvcf.write(line)\n",
    "            else:\n",
    "                linecomp = line.split(\"\\t\")\n",
    "                Alt_num = linecomp[9].split(\":\")[1].split(\",\")[0]\n",
    "                AF = linecomp[9].split(\":\")[2]\n",
    "                DP = linecomp[7].split('DP=')[1].split(\";\")[0]\n",
    "                Alt_seq = linecomp[4]\n",
    "                if \",\" not in Alt_seq:\n",
    "                    if int(Alt_num)>=2 and float(AF) >= 0.05 and float(AF) <= 0.4 and int(DP) >= 20 and int(DP) <= 140:\n",
    "                        a = \"\\t\".join(linecomp)\n",
    "                        newvcf.write(a)\n",
    "\n",
    "with open(\"/home/jsh/01.Project/Celltype/20220504/05.PASS_somatic_vcf/Olig2.pair_PU1.PASS.mutect2.filtered.vcf\", \"r\") as rawvcf:\n",
    "    with open(\"/home/jsh/01.Project/Celltype/20220504/05.PASS_somatic_vcf/Olig2.pair_PU1.PASS.mutect2.filtered.AF005_04.Alt2.DP20_120.vcf\", \"w\") as newvcf:\n",
    "        for line in rawvcf:\n",
    "            if line.startswith(\"#\"):\n",
    "                newvcf.write(line)\n",
    "            else:\n",
    "                linecomp = line.split(\"\\t\")\n",
    "                Alt_num = linecomp[9].split(\":\")[1].split(\",\")[0]\n",
    "                AF = linecomp[9].split(\":\")[2]\n",
    "                DP = linecomp[7].split('DP=')[1].split(\";\")[0]\n",
    "                Alt_seq = linecomp[4]\n",
    "                if \",\" not in Alt_seq:\n",
    "                    if int(Alt_num)>=2 and float(AF) >= 0.05 and float(AF) <= 0.4 and int(DP) >= 20 and int(DP) <= 140:\n",
    "                        a = \"\\t\".join(linecomp)\n",
    "                        newvcf.write(a)\n",
    "                        \n",
    "with open(\"/home/jsh/01.Project/Celltype/20220504/05.PASS_somatic_vcf/PU1.pair_PU1.PASS.mutect2.filtered.vcf\", \"r\") as rawvcf:\n",
    "    with open(\"/home/jsh/01.Project/Celltype/20220504/05.PASS_somatic_vcf/PU1.pair_PU1.PASS.mutect2.filtered.AF005_04.Alt2.DP20_120.vcf\", \"w\") as newvcf:\n",
    "        for line in rawvcf:\n",
    "            if line.startswith(\"#\"):\n",
    "                newvcf.write(line)\n",
    "            else:\n",
    "                linecomp = line.split(\"\\t\")\n",
    "                Alt_num = linecomp[9].split(\":\")[1].split(\",\")[0]\n",
    "                AF = linecomp[9].split(\":\")[2]\n",
    "                DP = linecomp[7].split('DP=')[1].split(\";\")[0]\n",
    "                Alt_seq = linecomp[4]\n",
    "                if \",\" not in Alt_seq:\n",
    "                    if int(Alt_num)>=2 and float(AF) >= 0.05 and float(AF) <= 0.4 and int(DP) >= 20 and int(DP) <= 140:\n",
    "                        a = \"\\t\".join(linecomp)\n",
    "                        newvcf.write(a)\n",
    "                        \n",
    "with open(\"/home/jsh/01.Project/Celltype/20220504/05.PASS_somatic_vcf/LHX.pair_PU1.PASS.mutect2.filtered.vcf\", \"r\") as rawvcf:\n",
    "    with open(\"/home/jsh/01.Project/Celltype/20220504/05.PASS_somatic_vcf/LHX.pair_PU1.PASS.mutect2.filtered.AF005_04.Alt2.DP20_120.vcf\", \"w\") as newvcf:\n",
    "        for line in rawvcf:\n",
    "            if line.startswith(\"#\"):\n",
    "                newvcf.write(line)\n",
    "            else:\n",
    "                linecomp = line.split(\"\\t\")\n",
    "                Alt_num = linecomp[9].split(\":\")[1].split(\",\")[0]\n",
    "                AF = linecomp[9].split(\":\")[2]\n",
    "                DP = linecomp[7].split('DP=')[1].split(\";\")[0]\n",
    "                Alt_seq = linecomp[4]\n",
    "                if \",\" not in Alt_seq:\n",
    "                    if int(Alt_num)>=2 and float(AF) >= 0.05 and float(AF) <= 0.4 and int(DP) >= 20 and int(DP) <= 140:\n",
    "                        a = \"\\t\".join(linecomp)\n",
    "                        newvcf.write(a)                        "
   ]
  },
  {
   "cell_type": "code",
   "execution_count": null,
   "id": "0cc4b9c2-0e17-4e98-817d-2b28819da042",
   "metadata": {},
   "outputs": [],
   "source": [
    "## find difference among VAF distribution\n",
    "#Neun\n",
    "with open(\"/home/jsh/01.Project/Celltype/20220504/05.PASS_somatic_vcf/Neun.pair_PU1.PASS.mutect2.filtered.vcf\", \"r\") as rawvcf:\n",
    "    with open(\"/home/jsh/01.Project/Celltype/20220504/05.PASS_somatic_vcf/Neun.pair_PU1.PASS.mutect2.filtered.AF005_008.Alt2.DP20_120.vcf\", \"w\") as newvcf:\n",
    "        for line in rawvcf:\n",
    "            if line.startswith(\"#\"):\n",
    "                newvcf.write(line)\n",
    "            else:\n",
    "                linecomp = line.split(\"\\t\")\n",
    "                Alt_num = linecomp[9].split(\":\")[1].split(\",\")[0]\n",
    "                AF = linecomp[9].split(\":\")[2]\n",
    "                DP = linecomp[7].split('DP=')[1].split(\";\")[0]\n",
    "                Alt_seq = linecomp[4]\n",
    "                if \",\" not in Alt_seq:\n",
    "                    if int(Alt_num)>=2 and float(AF) >= 0.05 and float(AF) <= 0.08 and int(DP) >= 20 and int(DP) <= 140:\n",
    "                        a = \"\\t\".join(linecomp)\n",
    "                        newvcf.write(a)\n",
    "\n",
    "with open(\"/home/jsh/01.Project/Celltype/20220504/05.PASS_somatic_vcf/Neun.pair_PU1.PASS.mutect2.filtered.vcf\", \"r\") as rawvcf:\n",
    "    with open(\"/home/jsh/01.Project/Celltype/20220504/05.PASS_somatic_vcf/Neun.pair_PU1.PASS.mutect2.filtered.AF008_012.Alt2.DP20_120.vcf\", \"w\") as newvcf:\n",
    "        for line in rawvcf:\n",
    "            if line.startswith(\"#\"):\n",
    "                newvcf.write(line)\n",
    "            else:\n",
    "                linecomp = line.split(\"\\t\")\n",
    "                Alt_num = linecomp[9].split(\":\")[1].split(\",\")[0]\n",
    "                AF = linecomp[9].split(\":\")[2]\n",
    "                DP = linecomp[7].split('DP=')[1].split(\";\")[0]\n",
    "                Alt_seq = linecomp[4]\n",
    "                if \",\" not in Alt_seq:\n",
    "                    if int(Alt_num)>=2 and float(AF) >= 0.08 and float(AF) <= 0.12 and int(DP) >= 20 and int(DP) <= 140:\n",
    "                        a = \"\\t\".join(linecomp)\n",
    "                        newvcf.write(a)                        \n",
    "                        \n",
    "with open(\"/home/jsh/01.Project/Celltype/20220504/05.PASS_somatic_vcf/Neun.pair_PU1.PASS.mutect2.filtered.vcf\", \"r\") as rawvcf:\n",
    "    with open(\"/home/jsh/01.Project/Celltype/20220504/05.PASS_somatic_vcf/Neun.pair_PU1.PASS.mutect2.filtered.AF012_040.Alt2.DP20_120.vcf\", \"w\") as newvcf:\n",
    "        for line in rawvcf:\n",
    "            if line.startswith(\"#\"):\n",
    "                newvcf.write(line)\n",
    "            else:\n",
    "                linecomp = line.split(\"\\t\")\n",
    "                Alt_num = linecomp[9].split(\":\")[1].split(\",\")[0]\n",
    "                AF = linecomp[9].split(\":\")[2]\n",
    "                DP = linecomp[7].split('DP=')[1].split(\";\")[0]\n",
    "                Alt_seq = linecomp[4]\n",
    "                if \",\" not in Alt_seq:\n",
    "                    if int(Alt_num)>=2 and float(AF) >= 0.12 and float(AF) <= 0.40 and int(DP) >= 20 and int(DP) <= 140:\n",
    "                        a = \"\\t\".join(linecomp)\n",
    "                        newvcf.write(a)                        \n",
    "\n",
    "#Olig2                        \n",
    "                        \n",
    "with open(\"/home/jsh/01.Project/Celltype/20220504/05.PASS_somatic_vcf/Olig2.pair_PU1.PASS.mutect2.filtered.vcf\", \"r\") as rawvcf:\n",
    "    with open(\"/home/jsh/01.Project/Celltype/20220504/05.PASS_somatic_vcf/Olig2.pair_PU1.PASS.mutect2.filtered.AF005_008.Alt2.DP20_120.vcf\", \"w\") as newvcf:\n",
    "        for line in rawvcf:\n",
    "            if line.startswith(\"#\"):\n",
    "                newvcf.write(line)\n",
    "            else:\n",
    "                linecomp = line.split(\"\\t\")\n",
    "                Alt_num = linecomp[9].split(\":\")[1].split(\",\")[0]\n",
    "                AF = linecomp[9].split(\":\")[2]\n",
    "                DP = linecomp[7].split('DP=')[1].split(\";\")[0]\n",
    "                Alt_seq = linecomp[4]\n",
    "                if \",\" not in Alt_seq:\n",
    "                    if int(Alt_num)>=2 and float(AF) >= 0.05 and float(AF) <= 0.08 and int(DP) >= 20 and int(DP) <= 140:\n",
    "                        a = \"\\t\".join(linecomp)\n",
    "                        newvcf.write(a)\n",
    "\n",
    "with open(\"/home/jsh/01.Project/Celltype/20220504/05.PASS_somatic_vcf/Olig2.pair_PU1.PASS.mutect2.filtered.vcf\", \"r\") as rawvcf:\n",
    "    with open(\"/home/jsh/01.Project/Celltype/20220504/05.PASS_somatic_vcf/Olig2.pair_PU1.PASS.mutect2.filtered.AF008_040.Alt2.DP20_120.vcf\", \"w\") as newvcf:\n",
    "        for line in rawvcf:\n",
    "            if line.startswith(\"#\"):\n",
    "                newvcf.write(line)\n",
    "            else:\n",
    "                linecomp = line.split(\"\\t\")\n",
    "                Alt_num = linecomp[9].split(\":\")[1].split(\",\")[0]\n",
    "                AF = linecomp[9].split(\":\")[2]\n",
    "                DP = linecomp[7].split('DP=')[1].split(\";\")[0]\n",
    "                Alt_seq = linecomp[4]\n",
    "                if \",\" not in Alt_seq:\n",
    "                    if int(Alt_num)>=2 and float(AF) >= 0.08 and float(AF) <= 0.40 and int(DP) >= 20 and int(DP) <= 140:\n",
    "                        a = \"\\t\".join(linecomp)\n",
    "                        newvcf.write(a)                        \n",
    "#PU1                        \n",
    "with open(\"/home/jsh/01.Project/Celltype/20220504/05.PASS_somatic_vcf/PU1.pair_PU1.PASS.mutect2.filtered.vcf\", \"r\") as rawvcf:\n",
    "    with open(\"/home/jsh/01.Project/Celltype/20220504/05.PASS_somatic_vcf/PU1.pair_PU1.PASS.mutect2.filtered.AF005_008.Alt2.DP20_120.vcf\", \"w\") as newvcf:\n",
    "        for line in rawvcf:\n",
    "            if line.startswith(\"#\"):\n",
    "                newvcf.write(line)\n",
    "            else:\n",
    "                linecomp = line.split(\"\\t\")\n",
    "                Alt_num = linecomp[9].split(\":\")[1].split(\",\")[0]\n",
    "                AF = linecomp[9].split(\":\")[2]\n",
    "                DP = linecomp[7].split('DP=')[1].split(\";\")[0]\n",
    "                Alt_seq = linecomp[4]\n",
    "                if \",\" not in Alt_seq:\n",
    "                    if int(Alt_num)>=2 and float(AF) >= 0.05 and float(AF) <= 0.08 and int(DP) >= 20 and int(DP) <= 140:\n",
    "                        a = \"\\t\".join(linecomp)\n",
    "                        newvcf.write(a)\n",
    "\n",
    "with open(\"/home/jsh/01.Project/Celltype/20220504/05.PASS_somatic_vcf/PU1.pair_PU1.PASS.mutect2.filtered.vcf\", \"r\") as rawvcf:\n",
    "    with open(\"/home/jsh/01.Project/Celltype/20220504/05.PASS_somatic_vcf/PU1.pair_PU1.PASS.mutect2.filtered.AF008_012.Alt2.DP20_120.vcf\", \"w\") as newvcf:\n",
    "        for line in rawvcf:\n",
    "            if line.startswith(\"#\"):\n",
    "                newvcf.write(line)\n",
    "            else:\n",
    "                linecomp = line.split(\"\\t\")\n",
    "                Alt_num = linecomp[9].split(\":\")[1].split(\",\")[0]\n",
    "                AF = linecomp[9].split(\":\")[2]\n",
    "                DP = linecomp[7].split('DP=')[1].split(\";\")[0]\n",
    "                Alt_seq = linecomp[4]\n",
    "                if \",\" not in Alt_seq:\n",
    "                    if int(Alt_num)>=2 and float(AF) >= 0.08 and float(AF) <= 0.12 and int(DP) >= 20 and int(DP) <= 140:\n",
    "                        a = \"\\t\".join(linecomp)\n",
    "                        newvcf.write(a)                        \n",
    "                        \n",
    "with open(\"/home/jsh/01.Project/Celltype/20220504/05.PASS_somatic_vcf/Neun.pair_PU1.PASS.mutect2.filtered.vcf\", \"r\") as rawvcf:\n",
    "    with open(\"/home/jsh/01.Project/Celltype/20220504/05.PASS_somatic_vcf/Neun.pair_PU1.PASS.mutect2.filtered.AF012_040.Alt2.DP20_120.vcf\", \"w\") as newvcf:\n",
    "        for line in rawvcf:\n",
    "            if line.startswith(\"#\"):\n",
    "                newvcf.write(line)\n",
    "            else:\n",
    "                linecomp = line.split(\"\\t\")\n",
    "                Alt_num = linecomp[9].split(\":\")[1].split(\",\")[0]\n",
    "                AF = linecomp[9].split(\":\")[2]\n",
    "                DP = linecomp[7].split('DP=')[1].split(\";\")[0]\n",
    "                Alt_seq = linecomp[4]\n",
    "                if \",\" not in Alt_seq:\n",
    "                    if int(Alt_num)>=2 and float(AF) >= 0.12 and float(AF) <= 0.40 and int(DP) >= 20 and int(DP) <= 140:\n",
    "                        a = \"\\t\".join(linecomp)\n",
    "                        newvcf.write(a)\n",
    "                        \n",
    "#LHX                        \n",
    "                        \n",
    "with open(\"/home/jsh/01.Project/Celltype/20220504/05.PASS_somatic_vcf/LHX.pair_PU1.PASS.mutect2.filtered.vcf\", \"r\") as rawvcf:\n",
    "    with open(\"/home/jsh/01.Project/Celltype/20220504/05.PASS_somatic_vcf/LHX.pair_PU1.PASS.mutect2.filtered.AF005_04.Alt2.DP20_120.vcf\", \"w\") as newvcf:\n",
    "        for line in rawvcf:\n",
    "            if line.startswith(\"#\"):\n",
    "                newvcf.write(line)\n",
    "            else:\n",
    "                linecomp = line.split(\"\\t\")\n",
    "                Alt_num = linecomp[9].split(\":\")[1].split(\",\")[0]\n",
    "                AF = linecomp[9].split(\":\")[2]\n",
    "                DP = linecomp[7].split('DP=')[1].split(\";\")[0]\n",
    "                Alt_seq = linecomp[4]\n",
    "                if \",\" not in Alt_seq:\n",
    "                    if int(Alt_num)>=2 and float(AF) >= 0.05 and float(AF) <= 0.4 and int(DP) >= 20 and int(DP) <= 140:\n",
    "                        a = \"\\t\".join(linecomp)\n",
    "                        newvcf.write(a)                        "
   ]
  },
  {
   "cell_type": "code",
   "execution_count": 96,
   "id": "8f6414e3-e530-40f4-901d-48998ddff6b5",
   "metadata": {},
   "outputs": [
    {
     "data": {
      "text/plain": [
       "'0,11'"
      ]
     },
     "execution_count": 96,
     "metadata": {},
     "output_type": "execute_result"
    }
   ],
   "source": [
    "Alt = linecomp[9].split(\":\")[1].split(\",\")[0]\n",
    "Alt\n",
    "DP = linecomp[7].split(';')[1].split(\"=\")[1]\n",
    "DP\n",
    "linecomp[7].split(';')[1]\n",
    "linecomp[9].split(\":\")[1]"
   ]
  },
  {
   "cell_type": "code",
   "execution_count": 109,
   "id": "5c093102-c0fc-4833-8edc-3bb1fae981a1",
   "metadata": {},
   "outputs": [
    {
     "data": {
      "text/plain": [
       "'42'"
      ]
     },
     "execution_count": 109,
     "metadata": {},
     "output_type": "execute_result"
    }
   ],
   "source": [
    "DP"
   ]
  },
  {
   "cell_type": "code",
   "execution_count": 71,
   "id": "d3453a29-dc77-4585-8320-70b913b57bee",
   "metadata": {},
   "outputs": [],
   "source": [
    "# bed file error :  ALT/QUAL > Ref/ALT \n",
    "# make input file for MosiacForcast : change unrequired data to sample name\n",
    "\n",
    "def swappos(list1, pos1, pos2, pos3):\n",
    "    list1[pos1], list1[pos2], list1[pos3] = list1[pos2], list1[pos3], list1[pos1]\n",
    "    return list1\n",
    "\n",
    "with open(\"/home/jsh/01.Project/Celltype/20220607/05.PASS_somatic_bed_isec/Neun.input\",  \"w\") as fixed:\n",
    "    with open(\"/home/jsh/01.Project/Celltype/20220607/05.PASS_somatic_bed_isec/Neun.pair_Blood.PASS.mutect2_strelka2.bed\", \"r\") as unfixed:\n",
    "        for line in unfixed:\n",
    "            linecomp = line.split(\"\\t\")\n",
    "            linecomp1 = linecomp[:3] + linecomp[5:7] + [\"Neun\", \"\\n\"]\n",
    "            a = \"\\t\".join(linecomp1)\n",
    "            fixed.write(a)\n",
    "            \n",
    "with open(\"/home/jsh/01.Project/Celltype/20220607/05.PASS_somatic_bed_isec//Olig2.input\",  \"w\") as fixed:\n",
    "    with open(\"/home/jsh/01.Project/Celltype/20220607/05.PASS_somatic_bed_isec/Olig2.pair_Blood.PASS.mutect2_strelka2.bed\", \"r\") as unfixed:\n",
    "        for line in unfixed:\n",
    "            linecomp = line.split(\"\\t\")\n",
    "            linecomp1 = linecomp[:3] + linecomp[5:7] + [\"Olig2\", \"\\n\"]\n",
    "            a = \"\\t\".join(linecomp1)\n",
    "            fixed.write(a)\n",
    "            \n",
    "with open(\"/home/jsh/01.Project/Celltype/20220607/05.PASS_somatic_bed_isec/PU1.input\",  \"w\") as fixed:\n",
    "    with open(\"/home/jsh/01.Project/Celltype/20220607/05.PASS_somatic_bed_isec/PU1.pair_Blood.PASS.mutect2_strelka2.bed\", \"r\") as unfixed:\n",
    "        for line in unfixed:\n",
    "            linecomp = line.split(\"\\t\")\n",
    "            linecomp1 = linecomp[:3] + linecomp[5:7] + [\"PU1\", \"\\n\"]\n",
    "            a = \"\\t\".join(linecomp1)\n",
    "            fixed.write(a)\n",
    "            \n",
    "with open(\"/home/jsh/01.Project/Celltype/20220607/05.PASS_somatic_bed_isec/LHX.input\",  \"w\") as fixed:\n",
    "    with open(\"/home/jsh/01.Project/Celltype/20220607/05.PASS_somatic_bed_isec/LHX.pair_Blood.PASS.mutect2_strelka2.bed\", \"r\") as unfixed:\n",
    "        for line in unfixed:\n",
    "            linecomp = line.split(\"\\t\")\n",
    "            linecomp1 = linecomp[:3] + linecomp[5:7] + [\"LHX\", \"\\n\"]\n",
    "            a = \"\\t\".join(linecomp1)\n",
    "            fixed.write(a)            "
   ]
  },
  {
   "cell_type": "code",
   "execution_count": 110,
   "id": "37f79c2e-b6be-4ce6-8a70-f3e082047ede",
   "metadata": {},
   "outputs": [
    {
     "data": {
      "text/plain": [
       "['chrY',\n",
       " '26634792',\n",
       " '.',\n",
       " 'TG',\n",
       " 'CT',\n",
       " '.',\n",
       " 'PASS',\n",
       " 'AS_FilterStatus=SITE;AS_SB_TABLE=18,18|0,6;DP=42;ECNT=2;GERMQ=61;MBQ=20,22;MFRL=173,204;MMQ=60,49;MPOS=12;POPAF=7.3;ROQ=34;TLOD=21.22',\n",
       " 'GT:AD:AF:DP:F1R2:F2R1:PGT:PID:PS:SB',\n",
       " '0|1:36,6:0.226:42:13,2:21,4:0|1:26634788_C_T:26634788:18,18,0,6\\n']"
      ]
     },
     "execution_count": 110,
     "metadata": {},
     "output_type": "execute_result"
    }
   ],
   "source": [
    "linecomp"
   ]
  },
  {
   "cell_type": "code",
   "execution_count": 111,
   "id": "61692084-0818-42cf-bf1b-17440d015eac",
   "metadata": {},
   "outputs": [
    {
     "data": {
      "text/plain": [
       "['chrY', '26634792', '.', 'TG']"
      ]
     },
     "execution_count": 111,
     "metadata": {},
     "output_type": "execute_result"
    }
   ],
   "source": [
    "linecomp[:4]"
   ]
  },
  {
   "cell_type": "code",
   "execution_count": 113,
   "id": "33d3804e-3c23-4f0c-81f2-e50fc34339ed",
   "metadata": {},
   "outputs": [
    {
     "data": {
      "text/plain": [
       "[2, 3]"
      ]
     },
     "execution_count": 113,
     "metadata": {},
     "output_type": "execute_result"
    }
   ],
   "source": [
    "a = [1,2,3,4]\n",
    "b = [6,7,8,9]\n",
    "a[1:3]"
   ]
  },
  {
   "cell_type": "code",
   "execution_count": 115,
   "id": "12f7d824-597e-40ee-90ea-16c2131e8611",
   "metadata": {},
   "outputs": [
    {
     "data": {
      "text/plain": [
       "['chrY', '26634792', '.', '.', 'PASS', 'Neun']"
      ]
     },
     "execution_count": 115,
     "metadata": {},
     "output_type": "execute_result"
    }
   ],
   "source": [
    "linecomp1 = linecomp[:3] + linecomp[5:7] + [\"Neun\"]\n",
    "linecomp1"
   ]
  },
  {
   "cell_type": "code",
   "execution_count": null,
   "id": "47ee5f04-e4be-4e42-90cb-fdf52b76265d",
   "metadata": {},
   "outputs": [],
   "source": [
    "#make MosaicHunter indel filter\n",
    "\n"
   ]
  },
  {
   "cell_type": "code",
   "execution_count": 129,
   "id": "83c0b850-1eda-486b-89e2-9601ecc054b3",
   "metadata": {},
   "outputs": [],
   "source": [
    "#make MosaicHunter indel filter\n",
    "\n",
    "\n",
    "\n",
    "with open(\"/home/jsh/01.Project/Celltype/20220504/05.PASS_somatic_bed/Neun.pair_PU1.PASS.mutect2.filtered.vcf.indel.bed\",  \"r\") as raw:\n",
    "    with open(\"/home/jsh/01.Project/Celltype/20220504/05.PASS_somatic_bed/Neun.indel_filter.bed\", \"w\") as output:\n",
    "        for line in raw : \n",
    "            linecomp = line.split(\"\\t\")\n",
    "            linecomp1 = [linecomp[0]] + [str(int(linecomp[1])-10)] + [str(int(linecomp[1])+10), \"\\n\"]\n",
    "            a = \"\\t\".join(linecomp1)\n",
    "            output.write(a)\n",
    "            \n",
    "with open(\"/home/jsh/01.Project/Celltype/20220504/05.PASS_somatic_bed/Olig2.pair_PU1.PASS.mutect2.filtered.vcf.indel.bed\",  \"r\") as raw:\n",
    "    with open(\"/home/jsh/01.Project/Celltype/20220504/05.PASS_somatic_bed/Olig2.indel_filter.bed\", \"w\") as output:\n",
    "        for line in raw : \n",
    "            linecomp = line.split(\"\\t\")\n",
    "            linecomp1 = [linecomp[0]] + [str(int(linecomp[1])-10)] + [str(int(linecomp[1])+10), \"\\n\"]\n",
    "            a = \"\\t\".join(linecomp1)\n",
    "            output.write(a)\n",
    "            \n",
    "with open(\"/home/jsh/01.Project/Celltype/20220504/05.PASS_somatic_bed/PU1.pair_PU1.PASS.mutect2.filtered.vcf.indel.bed\",  \"r\") as raw:\n",
    "    with open(\"/home/jsh/01.Project/Celltype/20220504/05.PASS_somatic_bed/PU1.indel_filter.bed\", \"w\") as output:\n",
    "        for line in raw : \n",
    "            linecomp = line.split(\"\\t\")\n",
    "            linecomp1 = [linecomp[0]] + [str(int(linecomp[1])-10)] + [str(int(linecomp[1])+10), \"\\n\"]\n",
    "            a = \"\\t\".join(linecomp1)\n",
    "            output.write(a)\n",
    "\n",
    "with open(\"/home/jsh/01.Project/Celltype/20220504/05.PASS_somatic_bed/LHX.pair_PU1.PASS.mutect2.filtered.vcf.indel.bed\",  \"r\") as raw:\n",
    "    with open(\"/home/jsh/01.Project/Celltype/20220504/05.PASS_somatic_bed/LHX.indel_filter.bed\", \"w\") as output:\n",
    "        for line in raw : \n",
    "            linecomp = line.split(\"\\t\")\n",
    "            linecomp1 = [linecomp[0]] + [str(int(linecomp[1])-10)] + [str(int(linecomp[1])+10), \"\\n\"]\n",
    "            a = \"\\t\".join(linecomp1)\n",
    "            output.write(a)\n",
    "            "
   ]
  },
  {
   "cell_type": "code",
   "execution_count": 132,
   "id": "f69d2ac2-afca-42e6-b054-88115e247974",
   "metadata": {},
   "outputs": [],
   "source": [
    "# liftover WGS error prone for MosaicHunter\n",
    "\n",
    "with open(\"/home/jsh/02.Tools/MosaicHunter/resources/WGS.error_prone.hg19.bed\", 'r') as GRCh37:\n",
    "    with open(\"/home/jsh/02.Tools/MosaicHunter/resources/WGS.error_prone.GRCh37.bed\", \"w\") as GRCh37_withoutINFO:\n",
    "        for line in GRCh37:\n",
    "            linecomp = line.split(\"\\t\")\n",
    "            a = \"\\t\".join(linecomp[0:3] + [\"\\n\"])\n",
    "            GRCh37_withoutINFO.write(a)"
   ]
  },
  {
   "cell_type": "code",
   "execution_count": 184,
   "id": "6a27f5f8-3352-4af6-8e3e-3de44dd9861e",
   "metadata": {},
   "outputs": [
    {
     "data": {
      "image/png": "[encoded data removed]",
      "text/plain": [
       "<Figure size 432x288 with 1 Axes>"
      ]
     },
     "metadata": {
      "needs_background": "light"
     },
     "output_type": "display_data"
    },
    {
     "data": {
      "text/plain": [
       "19444"
      ]
     },
     "execution_count": 184,
     "metadata": {},
     "output_type": "execute_result"
    }
   ],
   "source": [
    "\n",
    "AF = []\n",
    "with open(\"/home/jsh/01.Project/Celltype/20220622/09.Mutect2_PASS/LHX.pair_Blood.PASS.mutect2.filtered.vcf\", \"r\") as vcf:\n",
    "    for line in vcf:\n",
    "        if not line.startswith(\"#\"):\n",
    "            linecomp = line.split(\"\\t\")\n",
    "            AF += [float(linecomp[10].split(\":\")[2])]\n",
    "# print(AF)\n",
    "max(AF)\n",
    "import matplotlib.pyplot as plt\n",
    "plt.hist(AF, bins=50)\n",
    "plt.xticks(rotation=90)\n",
    "plt.axvline(x=0.1, ymin=0, ymax=1, color='red')\n",
    "plt.show()\n",
    "max(AF)\n",
    "len(AF)"
   ]
  },
  {
   "cell_type": "code",
   "execution_count": 10,
   "id": "0ef91bf7-62e4-49c0-a89e-7b9c0c031b59",
   "metadata": {},
   "outputs": [
    {
     "name": "stdout",
     "output_type": "stream",
     "text": [
      "Celltype : Neun\n",
      "total variants : 281\n",
      "filtered variant 0.05<=AF<0.4, Alt>=3 : 239 (85.05%)\n"
     ]
    },
    {
     "data": {
      "image/png": "[encoded data removed]",
      "text/plain": [
       "<Figure size 432x288 with 1 Axes>"
      ]
     },
     "metadata": {
      "needs_background": "light"
     },
     "output_type": "display_data"
    },
    {
     "name": "stdout",
     "output_type": "stream",
     "text": [
      "AF median : 0.199\n",
      "AF mean : 0.20839145907473308\n"
     ]
    },
    {
     "data": {
      "image/png": "[encoded data removed]",
      "text/plain": [
       "<Figure size 432x288 with 1 Axes>"
      ]
     },
     "metadata": {
      "needs_background": "light"
     },
     "output_type": "display_data"
    },
    {
     "name": "stdout",
     "output_type": "stream",
     "text": [
      "Alt median : 8.0\n",
      "Alt mean : 9.86832740213523\n",
      "\n",
      "\n",
      "\n",
      "\n",
      "Celltype : LHX\n",
      "total variants : 104\n",
      "filtered variant 0.05<=AF<0.4, Alt>=3 : 86 (82.69%)\n"
     ]
    },
    {
     "data": {
      "image/png": "[encoded data removed]",
      "text/plain": [
       "<Figure size 432x288 with 1 Axes>"
      ]
     },
     "metadata": {
      "needs_background": "light"
     },
     "output_type": "display_data"
    },
    {
     "name": "stdout",
     "output_type": "stream",
     "text": [
      "AF median : 0.181\n",
      "AF mean : 0.18713461538461534\n"
     ]
    },
    {
     "data": {
      "image/png": "[encoded data removed]",
      "text/plain": [
       "<Figure size 432x288 with 1 Axes>"
      ]
     },
     "metadata": {
      "needs_background": "light"
     },
     "output_type": "display_data"
    },
    {
     "name": "stdout",
     "output_type": "stream",
     "text": [
      "Alt median : 9.5\n",
      "Alt mean : 9.961538461538462\n",
      "\n",
      "\n",
      "\n",
      "\n",
      "Celltype : Olig2\n",
      "total variants : 86\n",
      "filtered variant 0.05<=AF<0.4, Alt>=3 : 74 (86.05%)\n"
     ]
    },
    {
     "data": {
      "image/png": "[encoded data removed]",
      "text/plain": [
       "<Figure size 432x288 with 1 Axes>"
      ]
     },
     "metadata": {
      "needs_background": "light"
     },
     "output_type": "display_data"
    },
    {
     "name": "stdout",
     "output_type": "stream",
     "text": [
      "AF median : 0.125\n",
      "AF mean : 0.13440697674418603\n"
     ]
    },
    {
     "data": {
      "image/png": "[encoded data removed]",
      "text/plain": [
       "<Figure size 432x288 with 1 Axes>"
      ]
     },
     "metadata": {
      "needs_background": "light"
     },
     "output_type": "display_data"
    },
    {
     "name": "stdout",
     "output_type": "stream",
     "text": [
      "Alt median : 9.0\n",
      "Alt mean : 10.476744186046512\n",
      "\n",
      "\n",
      "\n",
      "\n"
     ]
    }
   ],
   "source": [
    "import matplotlib.pyplot as plt\n",
    "import numpy as np\n",
    "import os, sys\n",
    "\n",
    "\n",
    "\n",
    "\n",
    "\n",
    "def main(filename, vcfSuffix, Alt_thres, AF_thres_low, AF_thres_high):\n",
    "    celltype = filename.split(vcfSuffix)[0].split(\"/\")[-1]\n",
    "    Alt = []\n",
    "    AF = []\n",
    "    Alt_filtered = []\n",
    "    AF_filtered = []\n",
    "    os.system(\"grep '^#' {0} > {1}\".format(filename, filename.replace(\".vcf\", \".whitelist.vcf\")))\n",
    "    os.system(\"bedtools intersect -v -a {0} \".format(filename) +\n",
    "              \"-b /home/jsh/02.Tools/blacklist/genomicSuperDups.hg38.merged.bed \" + \n",
    "              \"/home/jsh/02.Tools/blacklist/hg38-blacklist.v2.bed \" +\n",
    "              \"/home/jsh/02.Tools/blacklist/simpleRepeat.GRCh38.merged.bed \" +\n",
    "              \">> {0}\".format(filename.replace(\".vcf\", \".whitelist.vcf\")))\n",
    "    \n",
    "    with open(filename.replace(\".vcf\", \".whitelist.vcf\"), \"r\") as vcf:\n",
    "        wfn = filename.replace(vcfSuffix, \".mt2_pass.whitelist.vaf{0}_{1}.alt{2}.vcf\".format(AF_thres_low, AF_thres_high, Alt_thres))\n",
    "        with open(wfn, \"w\") as wf:\n",
    "            for line in vcf:\n",
    "                if line.startswith(\"#\"):\n",
    "                    wf.write(line)\n",
    "                else:\n",
    "                    linecomp = line.split(\"\\t\")\n",
    "                    x = linecomp[10].split(\":\")\n",
    "        #             Alt += [float(linecomp[10].split(\":\")[1].split(\",\")[1])]\n",
    "                    Alt_num = float(x[1].split(\",\")[1])\n",
    "                    AF_num = float(x[2])\n",
    "                    if len(linecomp[3])==1 and len(linecomp[4])==1:\n",
    "                        if Alt_num >= Alt_thres:\n",
    "                            if AF_num >= AF_thres_low and AF_num < AF_thres_high:\n",
    "                                AF_filtered += [AF_num]\n",
    "                                Alt_filtered += [Alt_num]\n",
    "                                wf.write(line)\n",
    "                    Alt += [Alt_num]\n",
    "                    AF += [AF_num]\n",
    "                    \n",
    "                \n",
    "    print(\"Celltype : {0}\".format(celltype))\n",
    "    print(\"total variants : {0}\".format(len(AF)))\n",
    "    print(\"filtered variant {0}<=AF<{1}, Alt>={2} : {3} ({4}%)\".format(AF_thres_low, AF_thres_high, Alt_thres, len(Alt_filtered), round(len(Alt_filtered)/len(Alt)*100,2)))                \n",
    "\n",
    "    # print(AF)\n",
    "    # max(Alt)\n",
    "    plt.hist(AF, bins=50)\n",
    "    plt.xticks(rotation=90)\n",
    "    plt.title(\"VAF distribution\")\n",
    "    plt.axvline(x=AF_thres_low, ymin=0, ymax=1, color='red')\n",
    "    plt.axvline(x=AF_thres_high, ymin=0, ymax=1, color='red')\n",
    "    plt.show()\n",
    "\n",
    "    print(\"AF median : {0}\".format(np.median(AF)))\n",
    "    print(\"AF mean : {0}\".format(np.mean(AF)))\n",
    "\n",
    "\n",
    "    plt.hist(Alt, bins=50)\n",
    "    plt.xticks(rotation=90)\n",
    "    plt.title(\"Alt distribution\")\n",
    "    plt.axvline(x=Alt_thres, ymin=0, ymax=1, color='red')\n",
    "    plt.show()\n",
    "\n",
    "    print(\"Alt median : {0}\".format(np.median(Alt)))\n",
    "    print(\"Alt mean : {0}\".format(np.mean(Alt)))\n",
    "    print(\"\\n\")\n",
    "    print(\"\\n\")\n",
    "    return(wfn)\n",
    "\n",
    "def removebloodsand(filename):\n",
    "    with open(filename, \"r\") as vcf:\n",
    "        wfn = filename.replace('.vcf', '.rm.vcf')\n",
    "        with open(wfn, \"w\") as wf:\n",
    "            for line in vcf:\n",
    "                if line.startswith(\"##\"):\n",
    "                    wf.write(line)\n",
    "                else:\n",
    "                    wf.write(\"\\t\".join(line.split('\\t')[0:11])+\"\\n\")\n",
    "\n",
    "def vcf_to_identifiers(vcfFn):\n",
    "    wfn = vcfFn.replace(\".vcf\", \".identifiers.txt\")\n",
    "    with open(vcfFn) as vcf:\n",
    "        with open(wfn, \"w\") as wf:\n",
    "            for l in vcf:\n",
    "                if not l.startswith(\"#\"):\n",
    "                    x=l.rstrip().split(\"\\t\")\n",
    "                    iden=\"_\".join([x[0], x[1], x[1], x[3], x[4]])+\"\\n\"\n",
    "                    wf.write(iden)\n",
    "                    \n",
    "\n",
    "if __name__ ==\"__main__\":\n",
    "    Alt_thres = 3\n",
    "    AF_thres_low = 0.05\n",
    "    AF_thres_high = 0.40\n",
    "    #vcfSuffix = \".pair_Blood.PASS.mutect2.filtered.vcf\"\n",
    "    vcfSuffix = \".pair_Blood.PASS.mutect2_strelka2.inMerged.vcf\"\n",
    "    \n",
    "    path = \"/home/jsh/01.Project/Celltype/20220622/07.mt2_st2_mergedBrain_noPU1/\"\n",
    "    \n",
    "    cellTypes=[fn.split(vcfSuffix)[0] for fn in os.listdir(path) if fn.endswith(vcfSuffix)]\n",
    "    for ct in cellTypes:\n",
    "        filename = \"{0}/{1}{2}\".format(path,ct, vcfSuffix)\n",
    "        \n",
    "        wfn=main(filename, vcfSuffix, Alt_thres, AF_thres_low, AF_thres_high)\n",
    "        os.system(\"bgzip -c {0} > {0}.gz\".format(wfn))\n",
    "        os.system(\"tabix -p vcf {0}.gz\".format(wfn))\n",
    "    os.system(\"bcftools merge {0}/*mt2_pass*vcf.gz --force-samples -O v -o {0}/vcfMerge.vcf\".format(path))\n",
    "    removebloodsand(\"{0}/vcfMerge.vcf\".format(path))\n",
    "    vcf_to_identifiers(\"{0}/vcfMerge.rm.vcf\".format(path))\n",
    "    \n"
   ]
  },
  {
   "cell_type": "code",
   "execution_count": 9,
   "id": "2c399b7a-87ca-45da-97a4-e20d233251a4",
   "metadata": {},
   "outputs": [
    {
     "data": {
      "text/plain": [
       "['Neun', 'LHX', 'Olig2']"
      ]
     },
     "execution_count": 9,
     "metadata": {},
     "output_type": "execute_result"
    }
   ],
   "source": [
    "[fn.split(vcfSuffix)[0] for fn in os.listdir(path) if fn.endswith(vcfSuffix)]"
   ]
  },
  {
   "cell_type": "code",
   "execution_count": 163,
   "id": "57fb5831-b48b-4502-9fb2-3167b79d12f1",
   "metadata": {},
   "outputs": [
    {
     "data": {
      "image/png": "[encoded data removed]",
      "text/plain": [
       "<Figure size 432x288 with 1 Axes>"
      ]
     },
     "metadata": {
      "needs_background": "light"
     },
     "output_type": "display_data"
    },
    {
     "data": {
      "text/plain": [
       "0.923"
      ]
     },
     "execution_count": 163,
     "metadata": {},
     "output_type": "execute_result"
    }
   ],
   "source": [
    "import matplotlib.pyplot as plt\n",
    "AF = []\n",
    "with open(\"/home/jsh/01.Project/Celltype/20220622/09.Mutect2_PASS/Neun.pair_Blood.PASS.mutect2.filtered.vcf\", \"r\") as vcf:\n",
    "    for line in vcf:\n",
    "        if not line.startswith(\"#\"):\n",
    "            linecomp = line.split(\"\\t\")\n",
    "            AF += [float(linecomp[10].split(\":\")[2])]\n",
    "# print(AF)\n",
    "plt.hist(AF, bins=25)\n",
    "plt.xticks(rotation=90)\n",
    "plt.show()\n",
    "max(AF)"
   ]
  },
  {
   "cell_type": "code",
   "execution_count": 164,
   "id": "45a1b06e-7c40-4e6f-8095-10ecbb9a889a",
   "metadata": {},
   "outputs": [
    {
     "data": {
      "image/png": "[encoded data removed]",
      "text/plain": [
       "<Figure size 432x288 with 1 Axes>"
      ]
     },
     "metadata": {
      "needs_background": "light"
     },
     "output_type": "display_data"
    },
    {
     "data": {
      "text/plain": [
       "0.818"
      ]
     },
     "execution_count": 164,
     "metadata": {},
     "output_type": "execute_result"
    }
   ],
   "source": [
    "import matplotlib.pyplot as plt\n",
    "AF = []\n",
    "with open(\"/home/jsh/01.Project/Celltype/20220622/09.Mutect2_PASS/Olig2.pair_Blood.PASS.mutect2.filtered.vcf\", \"r\") as vcf:\n",
    "    for line in vcf:\n",
    "        if not line.startswith(\"#\"):\n",
    "            linecomp = line.split(\"\\t\")\n",
    "            AF += [float(linecomp[10].split(\":\")[2])]\n",
    "# print(AF)\n",
    "plt.hist(AF, bins=25)\n",
    "plt.xticks(rotation=90)\n",
    "plt.show()\n",
    "max(AF)"
   ]
  },
  {
   "cell_type": "code",
   "execution_count": 165,
   "id": "adb753ba-3f07-4501-97d8-f21cf52e1db2",
   "metadata": {},
   "outputs": [
    {
     "data": {
      "image/png": "[encoded data removed]",
      "text/plain": [
       "<Figure size 432x288 with 1 Axes>"
      ]
     },
     "metadata": {
      "needs_background": "light"
     },
     "output_type": "display_data"
    },
    {
     "data": {
      "text/plain": [
       "0.889"
      ]
     },
     "execution_count": 165,
     "metadata": {},
     "output_type": "execute_result"
    }
   ],
   "source": [
    "import matplotlib.pyplot as plt\n",
    "AF = []\n",
    "with open(\"/home/jsh/01.Project/Celltype/20220622/09.Mutect2_PASS/PU1.pair_Blood.PASS.mutect2.filtered.vcf\", \"r\") as vcf:\n",
    "    for line in vcf:\n",
    "        if not line.startswith(\"#\"):\n",
    "            linecomp = line.split(\"\\t\")\n",
    "            AF += [float(linecomp[10].split(\":\")[2])]\n",
    "# print(AF)\n",
    "plt.hist(AF, bins=25)\n",
    "plt.xticks(rotation=90)\n",
    "plt.show()\n",
    "max(AF)"
   ]
  },
  {
   "cell_type": "code",
   "execution_count": 86,
   "id": "8c5b3926-e58a-4711-bc03-32791cb7bd8a",
   "metadata": {},
   "outputs": [],
   "source": [
    "from sklearn.datasets import load_iris\n",
    "from sklearn.cluster import KMeans\n",
    "from sklearn.mixture import GaussianMixture\n",
    "\n",
    "import matplotlib.pyplot as plt\n",
    "import numpy as np\n",
    "import pandas as pd"
   ]
  },
  {
   "cell_type": "code",
   "execution_count": 126,
   "id": "982df180-ffa7-4e18-89d6-af20946ef3b5",
   "metadata": {},
   "outputs": [
    {
     "name": "stderr",
     "output_type": "stream",
     "text": [
      "Exception ignored on calling ctypes callback function: <function _ThreadpoolInfo._find_modules_with_dl_iterate_phdr.<locals>.match_module_callback at 0x7fc284d261f0>\n",
      "Traceback (most recent call last):\n",
      "  File \"/home/public/tools/miniconda3/lib/python3.8/site-packages/threadpoolctl.py\", line 400, in match_module_callback\n",
      "    self._make_module_from_path(filepath)\n",
      "  File \"/home/public/tools/miniconda3/lib/python3.8/site-packages/threadpoolctl.py\", line 515, in _make_module_from_path\n",
      "    module = module_class(filepath, prefix, user_api, internal_api)\n",
      "  File \"/home/public/tools/miniconda3/lib/python3.8/site-packages/threadpoolctl.py\", line 606, in __init__\n",
      "    self.version = self.get_version()\n",
      "  File \"/home/public/tools/miniconda3/lib/python3.8/site-packages/threadpoolctl.py\", line 646, in get_version\n",
      "    config = get_config().split()\n",
      "AttributeError: 'NoneType' object has no attribute 'split'\n",
      "Exception ignored on calling ctypes callback function: <function _ThreadpoolInfo._find_modules_with_dl_iterate_phdr.<locals>.match_module_callback at 0x7fc284d261f0>\n",
      "Traceback (most recent call last):\n",
      "  File \"/home/public/tools/miniconda3/lib/python3.8/site-packages/threadpoolctl.py\", line 400, in match_module_callback\n",
      "    self._make_module_from_path(filepath)\n",
      "  File \"/home/public/tools/miniconda3/lib/python3.8/site-packages/threadpoolctl.py\", line 515, in _make_module_from_path\n",
      "    module = module_class(filepath, prefix, user_api, internal_api)\n",
      "  File \"/home/public/tools/miniconda3/lib/python3.8/site-packages/threadpoolctl.py\", line 606, in __init__\n",
      "    self.version = self.get_version()\n",
      "  File \"/home/public/tools/miniconda3/lib/python3.8/site-packages/threadpoolctl.py\", line 646, in get_version\n",
      "    config = get_config().split()\n",
      "AttributeError: 'NoneType' object has no attribute 'split'\n"
     ]
    },
    {
     "data": {
      "image/png": "[encoded data removed]",
      "text/plain": [
       "<Figure size 360x122.4 with 3 Axes>"
      ]
     },
     "metadata": {
      "needs_background": "light"
     },
     "output_type": "display_data"
    }
   ],
   "source": [
    "N = np.arange(1, 11)\n",
    "models = [None for i in range(len(N))]\n",
    "Neun_np = []\n",
    "for i in AF:\n",
    "    Neun_np.append([i])\n",
    "Neun_np=np.array(Neun_np)\n",
    "Neun_np\n",
    "\n",
    "for i in range(len(N)):\n",
    "    models[i] = GaussianMixture(N[i]).fit(Neun_np)\n",
    "AIC = [m.aic(Neun_np) for m in models]\n",
    "BIC = [m.bic(Neun_np) for m in models]\n",
    "fig = plt.figure(figsize=(5, 1.7))\n",
    "fig.subplots_adjust(left=0.12, right=0.97,\n",
    "                    bottom=0.21, top=0.9, wspace=0.5)\n",
    "ax = fig.add_subplot(131)\n",
    "M_best = models[np.argmin(AIC)]\n",
    "x = np.linspace(-6,6,1000)\n",
    "M_best\n",
    "x = np.linspace(-6, 6, 1000)\n",
    "logprob = M_best.score_samples(x.reshape(-1, 1))\n",
    "responsibilities = M_best.predict_proba(x.reshape(-1, 1))\n",
    "pdf = np.exp(logprob)\n",
    "pdf_individual = responsibilities * pdf[:, np.newaxis]\n",
    "\n",
    "ax.hist(Neun_np, 30, density=True, histtype='stepfilled', alpha=0.4)\n",
    "ax.plot(x, pdf, '-k')\n",
    "ax.plot(x, pdf_individual, '--k')\n",
    "ax.text(0.04, 0.96, \"Best-fit Mixture\",\n",
    "        ha='left', va='top', transform=ax.transAxes)\n",
    "ax.set_xlabel('$x$')\n",
    "ax.set_ylabel('$p(x)$')\n",
    "\n",
    "ax = fig.add_subplot(132)\n",
    "ax.plot(N, AIC, '-k', label='AIC')\n",
    "ax.plot(N, BIC, '--k', label='BIC')\n",
    "ax.set_xlabel('n. components')\n",
    "ax.set_ylabel('information criterion')\n",
    "ax.legend(loc=2)\n",
    "\n",
    "ax = fig.add_subplot(133)\n",
    "\n",
    "p = responsibilities\n",
    "p = p.cumsum(1).T\n",
    "\n",
    "ax.fill_between(x, 0, p[0], color='gray', alpha=0.3)\n",
    "ax.fill_between(x, p[0], p[1], color='gray', alpha=0.5)\n",
    "ax.fill_between(x, p[1], 1, color='gray', alpha=0.7)\n",
    "ax.set_xlim(-6, 6)\n",
    "ax.set_ylim(0, 1)\n",
    "ax.set_xlabel('$x$')\n",
    "\n",
    "\n",
    "plt.show()"
   ]
  },
  {
   "cell_type": "code",
   "execution_count": 127,
   "id": "8262c756-84e7-405d-a160-f5f80b513906",
   "metadata": {},
   "outputs": [
    {
     "name": "stderr",
     "output_type": "stream",
     "text": [
      "Exception ignored on calling ctypes callback function: <function _ThreadpoolInfo._find_modules_with_dl_iterate_phdr.<locals>.match_module_callback at 0x7fc29aeefc10>\n",
      "Traceback (most recent call last):\n",
      "  File \"/home/public/tools/miniconda3/lib/python3.8/site-packages/threadpoolctl.py\", line 400, in match_module_callback\n",
      "    self._make_module_from_path(filepath)\n",
      "  File \"/home/public/tools/miniconda3/lib/python3.8/site-packages/threadpoolctl.py\", line 515, in _make_module_from_path\n",
      "    module = module_class(filepath, prefix, user_api, internal_api)\n",
      "  File \"/home/public/tools/miniconda3/lib/python3.8/site-packages/threadpoolctl.py\", line 606, in __init__\n",
      "    self.version = self.get_version()\n",
      "  File \"/home/public/tools/miniconda3/lib/python3.8/site-packages/threadpoolctl.py\", line 646, in get_version\n",
      "    config = get_config().split()\n",
      "AttributeError: 'NoneType' object has no attribute 'split'\n",
      "Exception ignored on calling ctypes callback function: <function _ThreadpoolInfo._find_modules_with_dl_iterate_phdr.<locals>.match_module_callback at 0x7fc29aeefc10>\n",
      "Traceback (most recent call last):\n",
      "  File \"/home/public/tools/miniconda3/lib/python3.8/site-packages/threadpoolctl.py\", line 400, in match_module_callback\n",
      "    self._make_module_from_path(filepath)\n",
      "  File \"/home/public/tools/miniconda3/lib/python3.8/site-packages/threadpoolctl.py\", line 515, in _make_module_from_path\n",
      "    module = module_class(filepath, prefix, user_api, internal_api)\n",
      "  File \"/home/public/tools/miniconda3/lib/python3.8/site-packages/threadpoolctl.py\", line 606, in __init__\n",
      "    self.version = self.get_version()\n",
      "  File \"/home/public/tools/miniconda3/lib/python3.8/site-packages/threadpoolctl.py\", line 646, in get_version\n",
      "    config = get_config().split()\n",
      "AttributeError: 'NoneType' object has no attribute 'split'\n"
     ]
    }
   ],
   "source": [
    "import matplotlib.pyplot as plt\n",
    "import numpy as np\n",
    "from scipy import stats\n",
    "from matplotlib.ticker import (MultipleLocator, FormatStrFormatter, AutoMinorLocator)\n",
    "import astropy\n",
    "from scipy.stats import norm\n",
    "from sklearn.mixture import GaussianMixture as GMM\n",
    "import matplotlib as mpl\n",
    "mpl.rcParams['axes.linewidth'] = 1.5\n",
    "mpl.rcParams.update({'font.size': 15, 'font.family': 'STIXGeneral', 'mathtext.fontset': 'stix'})\n",
    "\n",
    "Neun_np = Neun_np.reshape(-1,1)\n",
    "\n",
    "bics = []\n",
    "min_bic = 0\n",
    "counter=1\n",
    "for i in range (10): # test the AIC/BIC metric between 1 and 10 components\n",
    "  gmm = GMM(n_components = counter, max_iter=1000, random_state=0, covariance_type = 'full')\n",
    "  labels = gmm.fit(Neun_np).predict(Neun_np)\n",
    "  bic = gmm.bic(Neun_np)\n",
    "  bics.append(bic)\n",
    "  if bic < min_bic or min_bic == 0:\n",
    "    min_bic = bic\n",
    "    opt_bic = counter\n",
    "  counter = counter + 1"
   ]
  },
  {
   "cell_type": "code",
   "execution_count": 128,
   "id": "586ce169-adef-4a77-939b-159e18c8917e",
   "metadata": {},
   "outputs": [
    {
     "data": {
      "text/plain": [
       "2"
      ]
     },
     "execution_count": 128,
     "metadata": {},
     "output_type": "execute_result"
    }
   ],
   "source": [
    "opt_bic"
   ]
  },
  {
   "cell_type": "code",
   "execution_count": 113,
   "id": "45f107dc-b39f-45f5-bae4-dbf1d8afaf6b",
   "metadata": {},
   "outputs": [
    {
     "data": {
      "text/plain": [
       "array([0.39569855, 0.1260136 , 0.47828785])"
      ]
     },
     "execution_count": 113,
     "metadata": {},
     "output_type": "execute_result"
    }
   ],
   "source": [
    "weights"
   ]
  },
  {
   "cell_type": "code",
   "execution_count": 115,
   "id": "65598f88-8d58-46f8-b611-544e6c0d72ef",
   "metadata": {},
   "outputs": [
    {
     "name": "stderr",
     "output_type": "stream",
     "text": [
      "<ipython-input-115-83571ca7dcaf>:16: MatplotlibDeprecationWarning: Adding an axes using the same arguments as a previous axes currently reuses the earlier instance.  In a future version, a new instance will always be created and returned.  Meanwhile, this warning can be suppressed, and the future behavior ensured, by passing a unique label to each axes instance.\n",
      "  ax = fig.add_subplot(1,2,2)\n"
     ]
    },
    {
     "data": {
      "image/png": "[encoded data removed]",
      "text/plain": [
       "<Figure size 432x288 with 1 Axes>"
      ]
     },
     "metadata": {
      "needs_background": "light"
     },
     "output_type": "display_data"
    }
   ],
   "source": [
    "#Neun\n",
    "n_optimal = opt_bic\n",
    "gmm = GMM(n_components = n_optimal, max_iter=1000, random_state=10, covariance_type = 'full')\n",
    "\n",
    "# find useful parameters\n",
    "mean = gmm.fit(Neun_np).means_  \n",
    "covs  = gmm.fit(Neun_np).covariances_\n",
    "weights = gmm.fit(Neun_np).weights_\n",
    "\n",
    "# create necessary things to plot\n",
    "x_axis = np.arange(0, 0.25, 0.001)\n",
    "y_axis0 = norm.pdf(x_axis, float(mean[0][0]), np.sqrt(float(covs[0][0][0])))*weights[0] # 1st gaussian\n",
    "y_axis1 = norm.pdf(x_axis, float(mean[1][0]), np.sqrt(float(covs[1][0][0])))*weights[1] # 2nd gaussian\n",
    "y_axis2 = norm.pdf(x_axis, float(mean[2][0]), np.sqrt(float(covs[2][0][0])))*weights[2] # 2nd gaussian\n",
    "\n",
    "ax = fig.add_subplot(1,2,2)\n",
    "# Plot 2\n",
    "plt.hist(x, density=True, color='black', bins=np.arange(-100, 100, 1))\n",
    "plt.plot(x_axis, y_axis0, lw=3, c='C0')\n",
    "plt.plot(x_axis, y_axis1, lw=3, c='C1')\n",
    "plt.plot(x_axis, y_axis2, lw=3, c='C2')\n",
    "plt.plot(x_axis, y_axis0+y_axis1+y_axis2, lw=3, c='C3', ls='dashed')\n",
    "plt.xlim(0, 0.25)\n",
    "#plt.ylim(0.0, 2.0)\n",
    "plt.xlabel(r\"Neun clone\", fontsize=20)\n",
    "plt.ylabel(r\"Density\", fontsize=20)\n",
    "\n",
    "plt.subplots_adjust(wspace=0.3)\n",
    "plt.show()\n",
    "plt.close('all')"
   ]
  },
  {
   "cell_type": "code",
   "execution_count": 124,
   "id": "7cd19160-76b3-4d7a-bd45-0e7a90fdd01f",
   "metadata": {},
   "outputs": [
    {
     "data": {
      "image/png": "[encoded data removed]",
      "text/plain": [
       "<Figure size 432x288 with 1 Axes>"
      ]
     },
     "metadata": {
      "needs_background": "light"
     },
     "output_type": "display_data"
    }
   ],
   "source": [
    "#PU1\n",
    "n_optimal = opt_bic\n",
    "gmm = GMM(n_components = n_optimal, max_iter=1000, random_state=10, covariance_type = 'full')\n",
    "\n",
    "# find useful parameters\n",
    "mean = gmm.fit(Neun_np).means_  \n",
    "covs  = gmm.fit(Neun_np).covariances_\n",
    "weights = gmm.fit(Neun_np).weights_\n",
    "\n",
    "# create necessary things to plot\n",
    "x_axis = np.arange(0, 0.25, 0.001)\n",
    "y_axis0 = norm.pdf(x_axis, float(mean[0][0]), np.sqrt(float(covs[0][0][0])))*weights[0] # 1st gaussian\n",
    "y_axis1 = norm.pdf(x_axis, float(mean[1][0]), np.sqrt(float(covs[1][0][0])))*weights[1] # 2nd gaussian\n",
    "y_axis2 = norm.pdf(x_axis, float(mean[2][0]), np.sqrt(float(covs[2][0][0])))*weights[2] # 2nd gaussian\n",
    "\n",
    "ax = fig.add_subplot(1,2,2)\n",
    "# Plot 2\n",
    "plt.hist(x, density=True, color='black', bins=np.arange(-100, 100, 1))\n",
    "plt.plot(x_axis, y_axis0, lw=3, c='C0')\n",
    "plt.plot(x_axis, y_axis1, lw=3, c='C1')\n",
    "plt.plot(x_axis, y_axis2, lw=3, c='C2')\n",
    "plt.plot(x_axis, y_axis0+y_axis1+y_axis2, lw=3, c='C3', ls='dashed')\n",
    "plt.xlim(0, 0.25)\n",
    "#plt.ylim(0.0, 2.0)\n",
    "plt.xlabel(r\"block1 clone\", fontsize=20)\n",
    "plt.ylabel(r\"Density\", fontsize=20)\n",
    "\n",
    "plt.subplots_adjust(wspace=0.3)\n",
    "plt.show()\n",
    "plt.close('all')"
   ]
  },
  {
   "cell_type": "code",
   "execution_count": 34,
   "id": "e9135c36-6ee8-4f6e-aa0f-3bd8de6d9050",
   "metadata": {},
   "outputs": [
    {
     "data": {
      "text/plain": [
       "[0.0,\n",
       " 0.1,\n",
       " 0.2,\n",
       " 0.30000000000000004,\n",
       " 0.4,\n",
       " 0.5,\n",
       " 0.6000000000000001,\n",
       " 0.7000000000000001,\n",
       " 0.8,\n",
       " 0.9]"
      ]
     },
     "execution_count": 34,
     "metadata": {},
     "output_type": "execute_result"
    }
   ],
   "source": [
    "import numpy as np\n",
    "list(np.arange(0,1, 0.1))"
   ]
  },
  {
   "cell_type": "code",
   "execution_count": 158,
   "id": "25d639e7-b0f2-481a-9a1f-221628429b93",
   "metadata": {},
   "outputs": [],
   "source": [
    "with open(\"/home/jsh/01.Project/Celltype/20220622/08.cellType_mergedBrain_whitelisted/vcfMerge.pair_Blood.PASS.mutect2_strelka2.white.removeSupDup.inMerged.vcf\", \"r\") as raw_vcf:\n",
    "    with open(\"/home/jsh/01.Project/Celltype/20220622/08.cellType_mergedBrain_whitelisted/vcfMerge.pair_Blood.PASS.mutect2_strelka2.white.removeSupDup.inMerged.BLconcat.vcf\", \"w\") as concat_vcf:\n",
    "        for line in raw_vcf:\n",
    "            if line.startswith(\"##\"):\n",
    "                concat_vcf.write(line)\n",
    "            elif line.startswith('#CHROM'):\n",
    "                header_linecomp = line.split('\\t')\n",
    "                header_ = header_linecomp[0:11] +[header_linecomp[12]]+[header_linecomp[14]]+[header_linecomp[16]]\n",
    "                a = \"\\t\".join(header_)\n",
    "                concat_vcf.write(a)\n",
    "            else:\n",
    "                linecomp = line.split('\\t')\n",
    "                newline = linecomp[0:11]+[linecomp[12]]+[linecomp[14]]+[linecomp[16]]\n",
    "                blood = [linecomp[9]] + [linecomp[11]] +[linecomp[13]] +[linecomp[15]]\n",
    "                bloodinfo = list(set(blood) - set(['.']))[0]\n",
    "                newline[9] = bloodinfo\n",
    "                a = \"\\t\".join(newline)\n",
    "                concat_vcf.write(a)"
   ]
  },
  {
   "cell_type": "code",
   "execution_count": 159,
   "id": "bb9ea982-1f9a-499f-92d8-1b37ee28b089",
   "metadata": {},
   "outputs": [],
   "source": [
    "with open(\"/home/jsh/01.Project/Celltype/20220622/08.cellType_mergedBrain_whitelisted/vcfMerge.pair_Blood.PASS.mutect2_strelka2.white.removeSupDup.inMerged.BLconcat.vcf\", \"r\") as vcf:\n",
    "    with open(\"/home/jsh/01.Project/Celltype/20220622/08.cellType_mergedBrain_whitelisted/vcfMerge.pair_Blood.PASS.mutect2_strelka2.white.removeSupDup.inMerged.BLconcat.phylip\", 'w') as phylip:\n",
    "        Neun = []\n",
    "        Olig2 = []\n",
    "        PU1 = []\n",
    "        LHX = []\n",
    "        for line in vcf:\n",
    "            if not line.startswith(\"#\"):\n",
    "                linecomp = line.split('\\t')\n",
    "                if len(linecomp[3]) == 1 and len(linecomp[4]) ==1:\n",
    "                    LHX += [str(int(\"./.\" not in linecomp[10]))]\n",
    "                    Neun += [str(int(\"./.\" not in linecomp[11]))]\n",
    "                    Olig2 += [str(int(\"./.\" not in linecomp[12]))]\n",
    "                    PU1 += [str(int(\"./.\" not in linecomp[13]))]\n",
    "        Neun_line = \"\".join([\"Neun\\t\"]+Neun)\n",
    "        Olig2_line = \"\".join([\"Olig2\\t\"]+Olig2)\n",
    "        PU1_line = \"\".join([\"PU1\\t\"]+PU1)\n",
    "        LHX_line = \"\".join([\"LHX\\t\"]+LHX)\n",
    "        phylip.write(\"4\\t{0}\\n\".format(len(Neun)))\n",
    "        phylip.write(Neun_line+\"\\n\")\n",
    "        phylip.write(Olig2_line+\"\\n\")\n",
    "        phylip.write(PU1_line+\"\\n\")\n",
    "        phylip.write(LHX_line+\"\\n\")\n",
    "                    "
   ]
  },
  {
   "cell_type": "code",
   "execution_count": 160,
   "id": "72b28732-a59e-4a4a-a466-1d4ec5c36303",
   "metadata": {},
   "outputs": [],
   "source": [
    "\n",
    "with open(\"/home/jsh/01.Project/Celltype/20220622/08.cellType_mergedBrain_whitelisted/vcfMerge.pair_Blood.PASS.mutect2_strelka2.white.removeSupDup.inMerged.BLconcat.vcf\", \"r\") as vcf:\n",
    "    with open(\"/home/jsh/01.Project/Celltype/20220622/08.cellType_mergedBrain_whitelisted/vcfMerge.pair_Blood.PASS.mutect2_strelka2.white.removeSupDup.inMerged.BLconcat.phylip\", 'w') as phylip:\n",
    "        Neun = []\n",
    "        Olig2 = []\n",
    "        PU1 = []\n",
    "        LHX = []\n",
    "        Blood = []\n",
    "        for line in vcf:\n",
    "            if not line.startswith(\"#\"):\n",
    "                linecomp = line.split('\\t')\n",
    "                if len(linecomp[3]) == 1 and len(linecomp[4]) ==1:\n",
    "                    LHX += [str(linecomp[int(\"./.\" not in linecomp[10])+3])]\n",
    "                    Neun += [str(linecomp[int(\"./.\" not in linecomp[11])+3])]\n",
    "                    Olig2 += [str(linecomp[int(\"./.\" not in linecomp[12])+3])]\n",
    "                    PU1 += [str(linecomp[int(\"./.\" not in linecomp[13])+3])]\n",
    "                    Blood += [str(linecomp[3])]\n",
    "                    \n",
    "        Neun_line = \"\".join([\"Neun\\t\"]+Neun)\n",
    "        Olig2_line = \"\".join([\"Olig2\\t\"]+Olig2)\n",
    "        PU1_line = \"\".join([\"PU1\\t\"]+PU1)\n",
    "        LHX_line = \"\".join([\"LHX\\t\"]+LHX)\n",
    "        Blood_line = \"\".join([\"Blood\\t\"]+Blood)\n",
    "        phylip.write(\"5\\t{0}\\n\".format(len(Neun)))\n",
    "        phylip.write(Blood_line+\"\\n\")\n",
    "        phylip.write(PU1_line+\"\\n\")\n",
    "        phylip.write(Neun_line+\"\\n\")\n",
    "        phylip.write(Olig2_line+\"\\n\")\n",
    "        phylip.write(LHX_line)\n",
    "                    "
   ]
  },
  {
   "cell_type": "code",
   "execution_count": 161,
   "id": "8b10822d-ddaa-42f1-bf50-ae617e6b13d9",
   "metadata": {},
   "outputs": [
    {
     "data": {
      "text/plain": [
       "'vcfMerge.pair_Blood.PASS.mutect2_strelka2black.removeSupDupblack.vcf'"
      ]
     },
     "execution_count": 161,
     "metadata": {},
     "output_type": "execute_result"
    }
   ],
   "source": [
    "fn = \"vcfMerge.pair_Blood.PASS.mutect2_strelka2.white.removeSupDup.white.vcf\"\n",
    "fn.replace(\".white\", \"black\")"
   ]
  },
  {
   "cell_type": "code",
   "execution_count": 142,
   "id": "964fcc63-16a5-44ce-bded-d2e942ef2eb6",
   "metadata": {},
   "outputs": [
    {
     "data": {
      "text/plain": [
       "[1, 2]"
      ]
     },
     "execution_count": 142,
     "metadata": {},
     "output_type": "execute_result"
    }
   ],
   "source": [
    "a = []\n",
    "a+= [1]\n",
    "a+= [2]\n",
    "a"
   ]
  },
  {
   "cell_type": "code",
   "execution_count": 62,
   "id": "567de01b-582e-4cd0-ac2d-485aa596eb65",
   "metadata": {},
   "outputs": [
    {
     "name": "stdout",
     "output_type": "stream",
     "text": [
      "[0, 1, 2, 3, 4, 5, 6, 7, 8, 9, 4, 5, 6, 7, 8, 9]\n",
      "[4, 1, 2, 3, 4, 5, 6, 7, 8, 9, 4, 5, 6, 7, 8, 9]\n"
     ]
    }
   ],
   "source": [
    "a = [0,1,2,3,4,5,6,7,8,9,4,5,6,7,8,9]\n",
    "print(a)\n",
    "list(set(a)-set([1,2,3,4]))\n",
    "a[0] = a[4]\n",
    "print(a)"
   ]
  },
  {
   "cell_type": "code",
   "execution_count": 61,
   "id": "5361abc9-e999-4377-9b2f-291d5826d991",
   "metadata": {},
   "outputs": [
    {
     "name": "stdout",
     "output_type": "stream",
     "text": [
      "['0/0:6,0:11,9,0,0:20,0:5,0:0.047:20', '.', '.', '0/0:6,0:11,9,0,0:20,0:5,0:0.047:20']\n"
     ]
    },
    {
     "data": {
      "text/plain": [
       "['0/0:6,0:11,9,0,0:20,0:5,0:0.047:20']"
      ]
     },
     "execution_count": 61,
     "metadata": {},
     "output_type": "execute_result"
    }
   ],
   "source": [
    "blood = [linecomp[9]] + [linecomp[11]] +[linecomp[13]] +[linecomp[15]]\n",
    "print(blood)\n",
    "list(set(blood) - set(['.']))"
   ]
  },
  {
   "cell_type": "code",
   "execution_count": 58,
   "id": "6c71bf38-8939-4248-b5ff-2efefd7793f7",
   "metadata": {},
   "outputs": [
    {
     "data": {
      "text/plain": [
       "['chrY',\n",
       " '21408437',\n",
       " '.',\n",
       " 'CACTT',\n",
       " 'C',\n",
       " '.',\n",
       " 'PASS',\n",
       " 'AC=2;AN=8;AS_FilterStatus=SITE;AS_SB_TABLE=41,34|2,2;DP=160;ECNT=1;GERMQ=93;MBQ=20,20;MFRL=202,97;MMQ=60,42;MPOS=25;NALOD=1.31;NLOD=5.71;POPAF=6;ROQ=93;SF=0,3;TLOD=13.47',\n",
       " 'GT:F2R1:SB:AD:F1R2:AF:DP',\n",
       " '0/0:6,0:11,9,0,0:20,0:5,0:0.047:20',\n",
       " '0/1:25,2:30,25,2,2:55,4:27,2:0.07:59',\n",
       " '.',\n",
       " '.',\n",
       " '.',\n",
       " '.',\n",
       " '0/0:6,0:11,9,0,0:20,0:5,0:0.047:20',\n",
       " '0/1:7,1:20,21,2,2:41,4:16,1:0.093:45\\n']"
      ]
     },
     "execution_count": 58,
     "metadata": {},
     "output_type": "execute_result"
    }
   ],
   "source": [
    "linecomp"
   ]
  }
 ],
 "metadata": {
  "kernelspec": {
   "display_name": "Python 3",
   "language": "python",
   "name": "python3"
  },
  "language_info": {
   "codemirror_mode": {
    "name": "ipython",
    "version": 3
   },
   "file_extension": ".py",
   "mimetype": "text/x-python",
   "name": "python",
   "nbconvert_exporter": "python",
   "pygments_lexer": "ipython3",
   "version": "3.8.10"
  }
 },
 "nbformat": 4,
 "nbformat_minor": 5
}
